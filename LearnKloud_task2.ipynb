{
  "nbformat": 4,
  "nbformat_minor": 0,
  "metadata": {
    "colab": {
      "name": "LearnKloud-task2.ipynb",
      "provenance": [],
      "collapsed_sections": []
    },
    "kernelspec": {
      "name": "python3",
      "display_name": "Python 3"
    },
    "language_info": {
      "name": "python"
    }
  },
  "cells": [
    {
      "cell_type": "markdown",
      "source": [
        "**TASK 2 LEARNKLOUD**\n",
        "\n",
        "\n"
      ],
      "metadata": {
        "id": "ctypW6iZpZcu"
      }
    },
    {
      "cell_type": "code",
      "source": [
        "import csv\n",
        "file = open(\"/content/Student_marks_list.csv\")\n",
        "csvreader = csv.reader(file)\n",
        "header = next(csvreader)\n",
        "rows = []\n",
        "for row in csvreader:\n",
        "    rows.append(row)\n",
        "\n",
        "max_maths='0'\n",
        "max_bio='0'\n",
        "max_english='0'\n",
        "max_physics='0'\n",
        "max_che='0'\n",
        "max_hindi='0'\n",
        "average=[]\n",
        "l=[]\n",
        "for i in rows:\n",
        "  if i[1]>max_maths:\n",
        "    max_maths=i[1]\n",
        "    top_maths=i[0]\n",
        "  if i[2]>max_bio:\n",
        "    max_bio=i[2]\n",
        "    top_bio=i[0]\n",
        "  if i[3]>max_english:\n",
        "    max_english=i[3]\n",
        "    top_english=i[0]\n",
        "  if i[4]>max_physics:\n",
        "    max_physics=i[4]\n",
        "    top_physics=i[0]\n",
        "  if i[5]>max_che:\n",
        "    max_che=i[5]\n",
        "    top_che=i[0]\n",
        "  if i[6]>max_hindi:\n",
        "    max_hindi=i[6]\n",
        "    top_hindi=i[0]\n",
        "  total=str(int(i[1])+int(i[2])+int(i[3])+int(i[4])+int(i[5])+int(i[6]))\n",
        "  l.append(i[0])\n",
        "  l.append(total)\n",
        "\n",
        "print(\"Topper in Maths is \"+top_maths+\"(\"+max_maths+\")\")\n",
        "print(\"Topper in Biology is \"+top_bio+\"(\"+max_bio+\")\")\n",
        "print(\"Topper in English is \"+top_english+\"(\"+max_english+\")\")\n",
        "print(\"Topper in Physics is \"+top_physics+\"(\"+max_physics+\")\")\n",
        "print(\"Topper in Chemistry is \"+top_che+\"(\"+max_che+\")\")\n",
        "print(\"Topper in Hindi is \"+top_hindi+\"(\"+max_hindi+\")\")\n",
        "print(\"\\n\")\n",
        "print(\"TOP 3 STUDENTS IN CLASS\")\n",
        "for j in range(0,3,1):\n",
        "  k=0\n",
        "  max=0\n",
        "  for i in range(1,len(l),2):\n",
        "    b=int(l[i])\n",
        "    if(b>max ):\n",
        "      max=b\n",
        "      k=i\n",
        "  \n",
        "  print(l[k-1]+\"(\"+l[k]+\")\"+\" First Rank\")\n",
        "  l.remove(l[k-1])\n",
        "  l.remove(l[k-1])\n"
      ],
      "metadata": {
        "colab": {
          "base_uri": "https://localhost:8080/"
        },
        "id": "W0f7sYmOjZrz",
        "outputId": "fd5cf1f7-8c98-4815-a587-6ebf632b59ee"
      },
      "execution_count": 2,
      "outputs": [
        {
          "output_type": "stream",
          "name": "stdout",
          "text": [
            "Topper in Maths is Manasa(99)\n",
            "Topper in Biology is Joshua(95)\n",
            "Topper in English is Praneeta(98)\n",
            "Topper in Physics is Sagar(99)\n",
            "Topper in Chemistry is Manasa(99)\n",
            "Topper in Hindi is Aravind(99)\n",
            "\n",
            "\n",
            "TOP 3 STUDENTS IN CLASS\n",
            "Manodhar(488) First Rank\n",
            "Bhavana(484) First Rank\n",
            "Sourav(478) First Rank\n"
          ]
        }
      ]
    }
  ]
}